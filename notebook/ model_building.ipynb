{
 "cells": [
  {
   "cell_type": "code",
   "execution_count": 8,
   "id": "b3a1de3b",
   "metadata": {},
   "outputs": [
    {
     "data": {
      "text/html": [
       "<div>\n",
       "<style scoped>\n",
       "    .dataframe tbody tr th:only-of-type {\n",
       "        vertical-align: middle;\n",
       "    }\n",
       "\n",
       "    .dataframe tbody tr th {\n",
       "        vertical-align: top;\n",
       "    }\n",
       "\n",
       "    .dataframe thead th {\n",
       "        text-align: right;\n",
       "    }\n",
       "</style>\n",
       "<table border=\"1\" class=\"dataframe\">\n",
       "  <thead>\n",
       "    <tr style=\"text-align: right;\">\n",
       "      <th></th>\n",
       "      <th>age</th>\n",
       "      <th>sex</th>\n",
       "      <th>bmi</th>\n",
       "      <th>children</th>\n",
       "      <th>smoker</th>\n",
       "      <th>charges</th>\n",
       "      <th>region_northwest</th>\n",
       "      <th>region_southeast</th>\n",
       "      <th>region_southwest</th>\n",
       "      <th>age_group</th>\n",
       "      <th>bmi_category</th>\n",
       "    </tr>\n",
       "  </thead>\n",
       "  <tbody>\n",
       "    <tr>\n",
       "      <th>0</th>\n",
       "      <td>19</td>\n",
       "      <td>1</td>\n",
       "      <td>27.900</td>\n",
       "      <td>0</td>\n",
       "      <td>1</td>\n",
       "      <td>16884.92400</td>\n",
       "      <td>0</td>\n",
       "      <td>0</td>\n",
       "      <td>1</td>\n",
       "      <td>Teen</td>\n",
       "      <td>Overweight</td>\n",
       "    </tr>\n",
       "    <tr>\n",
       "      <th>1</th>\n",
       "      <td>18</td>\n",
       "      <td>0</td>\n",
       "      <td>33.770</td>\n",
       "      <td>1</td>\n",
       "      <td>0</td>\n",
       "      <td>1725.55230</td>\n",
       "      <td>0</td>\n",
       "      <td>1</td>\n",
       "      <td>0</td>\n",
       "      <td>Teen</td>\n",
       "      <td>Obese</td>\n",
       "    </tr>\n",
       "    <tr>\n",
       "      <th>2</th>\n",
       "      <td>28</td>\n",
       "      <td>0</td>\n",
       "      <td>33.000</td>\n",
       "      <td>3</td>\n",
       "      <td>0</td>\n",
       "      <td>4449.46200</td>\n",
       "      <td>0</td>\n",
       "      <td>1</td>\n",
       "      <td>0</td>\n",
       "      <td>Adults</td>\n",
       "      <td>Obese</td>\n",
       "    </tr>\n",
       "    <tr>\n",
       "      <th>3</th>\n",
       "      <td>33</td>\n",
       "      <td>0</td>\n",
       "      <td>22.705</td>\n",
       "      <td>0</td>\n",
       "      <td>0</td>\n",
       "      <td>21984.47061</td>\n",
       "      <td>1</td>\n",
       "      <td>0</td>\n",
       "      <td>0</td>\n",
       "      <td>Adults</td>\n",
       "      <td>Normal</td>\n",
       "    </tr>\n",
       "    <tr>\n",
       "      <th>4</th>\n",
       "      <td>32</td>\n",
       "      <td>0</td>\n",
       "      <td>28.880</td>\n",
       "      <td>0</td>\n",
       "      <td>0</td>\n",
       "      <td>3866.85520</td>\n",
       "      <td>1</td>\n",
       "      <td>0</td>\n",
       "      <td>0</td>\n",
       "      <td>Adults</td>\n",
       "      <td>Overweight</td>\n",
       "    </tr>\n",
       "  </tbody>\n",
       "</table>\n",
       "</div>"
      ],
      "text/plain": [
       "   age  sex     bmi  children  smoker      charges  region_northwest  \\\n",
       "0   19    1  27.900         0       1  16884.92400                 0   \n",
       "1   18    0  33.770         1       0   1725.55230                 0   \n",
       "2   28    0  33.000         3       0   4449.46200                 0   \n",
       "3   33    0  22.705         0       0  21984.47061                 1   \n",
       "4   32    0  28.880         0       0   3866.85520                 1   \n",
       "\n",
       "   region_southeast  region_southwest age_group bmi_category  \n",
       "0                 0                 1      Teen   Overweight  \n",
       "1                 1                 0      Teen        Obese  \n",
       "2                 1                 0    Adults        Obese  \n",
       "3                 0                 0    Adults       Normal  \n",
       "4                 0                 0    Adults   Overweight  "
      ]
     },
     "execution_count": 8,
     "metadata": {},
     "output_type": "execute_result"
    }
   ],
   "source": [
    "import numpy as np\n",
    "import pandas as pd\n",
    "df=pd.read_csv(\"../data/insurance_featured.csv\",index_col=0)\n",
    "df.head()"
   ]
  },
  {
   "cell_type": "code",
   "execution_count": 9,
   "id": "4738f1d9",
   "metadata": {},
   "outputs": [
    {
     "data": {
      "text/plain": [
       "(1338, 11)"
      ]
     },
     "execution_count": 9,
     "metadata": {},
     "output_type": "execute_result"
    }
   ],
   "source": [
    "df.shape"
   ]
  },
  {
   "cell_type": "code",
   "execution_count": 10,
   "id": "cef246d2",
   "metadata": {},
   "outputs": [
    {
     "data": {
      "text/html": [
       "<div>\n",
       "<style scoped>\n",
       "    .dataframe tbody tr th:only-of-type {\n",
       "        vertical-align: middle;\n",
       "    }\n",
       "\n",
       "    .dataframe tbody tr th {\n",
       "        vertical-align: top;\n",
       "    }\n",
       "\n",
       "    .dataframe thead th {\n",
       "        text-align: right;\n",
       "    }\n",
       "</style>\n",
       "<table border=\"1\" class=\"dataframe\">\n",
       "  <thead>\n",
       "    <tr style=\"text-align: right;\">\n",
       "      <th></th>\n",
       "      <th>age</th>\n",
       "      <th>sex</th>\n",
       "      <th>bmi</th>\n",
       "      <th>children</th>\n",
       "      <th>smoker</th>\n",
       "      <th>charges</th>\n",
       "      <th>region_northwest</th>\n",
       "      <th>region_southeast</th>\n",
       "      <th>region_southwest</th>\n",
       "    </tr>\n",
       "  </thead>\n",
       "  <tbody>\n",
       "    <tr>\n",
       "      <th>0</th>\n",
       "      <td>19</td>\n",
       "      <td>1</td>\n",
       "      <td>27.900</td>\n",
       "      <td>0</td>\n",
       "      <td>1</td>\n",
       "      <td>16884.92400</td>\n",
       "      <td>0</td>\n",
       "      <td>0</td>\n",
       "      <td>1</td>\n",
       "    </tr>\n",
       "    <tr>\n",
       "      <th>1</th>\n",
       "      <td>18</td>\n",
       "      <td>0</td>\n",
       "      <td>33.770</td>\n",
       "      <td>1</td>\n",
       "      <td>0</td>\n",
       "      <td>1725.55230</td>\n",
       "      <td>0</td>\n",
       "      <td>1</td>\n",
       "      <td>0</td>\n",
       "    </tr>\n",
       "    <tr>\n",
       "      <th>2</th>\n",
       "      <td>28</td>\n",
       "      <td>0</td>\n",
       "      <td>33.000</td>\n",
       "      <td>3</td>\n",
       "      <td>0</td>\n",
       "      <td>4449.46200</td>\n",
       "      <td>0</td>\n",
       "      <td>1</td>\n",
       "      <td>0</td>\n",
       "    </tr>\n",
       "    <tr>\n",
       "      <th>3</th>\n",
       "      <td>33</td>\n",
       "      <td>0</td>\n",
       "      <td>22.705</td>\n",
       "      <td>0</td>\n",
       "      <td>0</td>\n",
       "      <td>21984.47061</td>\n",
       "      <td>1</td>\n",
       "      <td>0</td>\n",
       "      <td>0</td>\n",
       "    </tr>\n",
       "    <tr>\n",
       "      <th>4</th>\n",
       "      <td>32</td>\n",
       "      <td>0</td>\n",
       "      <td>28.880</td>\n",
       "      <td>0</td>\n",
       "      <td>0</td>\n",
       "      <td>3866.85520</td>\n",
       "      <td>1</td>\n",
       "      <td>0</td>\n",
       "      <td>0</td>\n",
       "    </tr>\n",
       "    <tr>\n",
       "      <th>...</th>\n",
       "      <td>...</td>\n",
       "      <td>...</td>\n",
       "      <td>...</td>\n",
       "      <td>...</td>\n",
       "      <td>...</td>\n",
       "      <td>...</td>\n",
       "      <td>...</td>\n",
       "      <td>...</td>\n",
       "      <td>...</td>\n",
       "    </tr>\n",
       "    <tr>\n",
       "      <th>1333</th>\n",
       "      <td>50</td>\n",
       "      <td>0</td>\n",
       "      <td>30.970</td>\n",
       "      <td>3</td>\n",
       "      <td>0</td>\n",
       "      <td>10600.54830</td>\n",
       "      <td>1</td>\n",
       "      <td>0</td>\n",
       "      <td>0</td>\n",
       "    </tr>\n",
       "    <tr>\n",
       "      <th>1334</th>\n",
       "      <td>18</td>\n",
       "      <td>1</td>\n",
       "      <td>31.920</td>\n",
       "      <td>0</td>\n",
       "      <td>0</td>\n",
       "      <td>2205.98080</td>\n",
       "      <td>0</td>\n",
       "      <td>0</td>\n",
       "      <td>0</td>\n",
       "    </tr>\n",
       "    <tr>\n",
       "      <th>1335</th>\n",
       "      <td>18</td>\n",
       "      <td>1</td>\n",
       "      <td>36.850</td>\n",
       "      <td>0</td>\n",
       "      <td>0</td>\n",
       "      <td>1629.83350</td>\n",
       "      <td>0</td>\n",
       "      <td>1</td>\n",
       "      <td>0</td>\n",
       "    </tr>\n",
       "    <tr>\n",
       "      <th>1336</th>\n",
       "      <td>21</td>\n",
       "      <td>1</td>\n",
       "      <td>25.800</td>\n",
       "      <td>0</td>\n",
       "      <td>0</td>\n",
       "      <td>2007.94500</td>\n",
       "      <td>0</td>\n",
       "      <td>0</td>\n",
       "      <td>1</td>\n",
       "    </tr>\n",
       "    <tr>\n",
       "      <th>1337</th>\n",
       "      <td>61</td>\n",
       "      <td>1</td>\n",
       "      <td>29.070</td>\n",
       "      <td>0</td>\n",
       "      <td>1</td>\n",
       "      <td>29141.36030</td>\n",
       "      <td>1</td>\n",
       "      <td>0</td>\n",
       "      <td>0</td>\n",
       "    </tr>\n",
       "  </tbody>\n",
       "</table>\n",
       "<p>1338 rows × 9 columns</p>\n",
       "</div>"
      ],
      "text/plain": [
       "      age  sex     bmi  children  smoker      charges  region_northwest  \\\n",
       "0      19    1  27.900         0       1  16884.92400                 0   \n",
       "1      18    0  33.770         1       0   1725.55230                 0   \n",
       "2      28    0  33.000         3       0   4449.46200                 0   \n",
       "3      33    0  22.705         0       0  21984.47061                 1   \n",
       "4      32    0  28.880         0       0   3866.85520                 1   \n",
       "...   ...  ...     ...       ...     ...          ...               ...   \n",
       "1333   50    0  30.970         3       0  10600.54830                 1   \n",
       "1334   18    1  31.920         0       0   2205.98080                 0   \n",
       "1335   18    1  36.850         0       0   1629.83350                 0   \n",
       "1336   21    1  25.800         0       0   2007.94500                 0   \n",
       "1337   61    1  29.070         0       1  29141.36030                 1   \n",
       "\n",
       "      region_southeast  region_southwest  \n",
       "0                    0                 1  \n",
       "1                    1                 0  \n",
       "2                    1                 0  \n",
       "3                    0                 0  \n",
       "4                    0                 0  \n",
       "...                ...               ...  \n",
       "1333                 0                 0  \n",
       "1334                 0                 0  \n",
       "1335                 1                 0  \n",
       "1336                 0                 1  \n",
       "1337                 0                 0  \n",
       "\n",
       "[1338 rows x 9 columns]"
      ]
     },
     "execution_count": 10,
     "metadata": {},
     "output_type": "execute_result"
    }
   ],
   "source": [
    "df2=df.drop(columns=[\"age_group\",\"bmi_category\"])\n",
    "df2"
   ]
  },
  {
   "cell_type": "code",
   "execution_count": 11,
   "id": "d495d3f4",
   "metadata": {},
   "outputs": [
    {
     "data": {
      "text/plain": [
       "(1338, 9)"
      ]
     },
     "execution_count": 11,
     "metadata": {},
     "output_type": "execute_result"
    }
   ],
   "source": [
    "df2.shape"
   ]
  },
  {
   "cell_type": "code",
   "execution_count": 12,
   "id": "5bf53841",
   "metadata": {},
   "outputs": [],
   "source": [
    "#Splitting dataset\n",
    "from sklearn.model_selection import train_test_split\n",
    "X=df2.drop(columns=[\"charges\"],axis=1)\n",
    "y=df2[\"charges\"]\n",
    "X_train,X_test,y_train,y_test=train_test_split(X,y,test_size=0.2,random_state=42)"
   ]
  },
  {
   "cell_type": "code",
   "execution_count": 13,
   "id": "c6b4a436",
   "metadata": {},
   "outputs": [
    {
     "data": {
      "text/plain": [
       "0.7835929767120724"
      ]
     },
     "execution_count": 13,
     "metadata": {},
     "output_type": "execute_result"
    }
   ],
   "source": [
    "from sklearn.linear_model import LinearRegression\n",
    "model=LinearRegression()\n",
    "model.fit(X_train,y_train)\n",
    "model.predict(X_test)\n",
    "model.score(X_test,y_test)"
   ]
  },
  {
   "cell_type": "code",
   "execution_count": 14,
   "id": "4fb9f04f",
   "metadata": {
    "scrolled": false
   },
   "outputs": [
    {
     "data": {
      "text/plain": [
       "array([0.76940723, 0.73319114, 0.81311399, 0.71151473, 0.71816065,\n",
       "       0.72957842, 0.73432713, 0.7620016 , 0.74143638, 0.74006818,\n",
       "       0.76860883, 0.73365802, 0.75527986, 0.75388332, 0.74711542,\n",
       "       0.78626785, 0.73993178, 0.76533203, 0.74345081, 0.77339916,\n",
       "       0.72290605, 0.7629774 , 0.76408117, 0.78057445, 0.75375651])"
      ]
     },
     "execution_count": 14,
     "metadata": {},
     "output_type": "execute_result"
    }
   ],
   "source": [
    "#Cross Validation\n",
    "from sklearn.model_selection import ShuffleSplit,cross_val_score\n",
    "cv=ShuffleSplit(n_splits=25,test_size=400,random_state=42)\n",
    "cross_val_score(LinearRegression(),X,y,cv=cv)\n"
   ]
  },
  {
   "cell_type": "code",
   "execution_count": 15,
   "id": "bc733372",
   "metadata": {
    "scrolled": false
   },
   "outputs": [
    {
     "name": "stdout",
     "output_type": "stream",
     "text": [
      "\n",
      "Model: decision_tree\n",
      "Best Score: 0.7803686929573632\n",
      "Best Params: {'criterion': 'absolute_error', 'splitter': 'best'}\n",
      "\n",
      "Model: random_forest\n",
      "Best Score: 0.820322748727353\n",
      "Best Params: {'criterion': 'friedman_mse', 'n_estimators': 450}\n",
      "\n",
      "Model: xgboost\n",
      "Best Score: 0.8743951213734107\n",
      "Best Params: {'learning_rate': 0.2, 'n_estimators': 45, 'objective': 'reg:absoluteerror'}\n"
     ]
    }
   ],
   "source": [
    "from sklearn.model_selection import GridSearchCV,ShuffleSplit\n",
    "from sklearn.tree import DecisionTreeRegressor\n",
    "from sklearn.ensemble import RandomForestRegressor\n",
    "from xgboost import XGBRegressor\n",
    "def find_model_gridsearchcv(X,y):\n",
    "    algo={\n",
    "        'decision_tree':{\n",
    "            'model':DecisionTreeRegressor(random_state=42),\n",
    "            'params':{\n",
    "                'criterion':['squared_error','friedman_mse','absolute_error'],\n",
    "                'splitter':['best','random']\n",
    "            }\n",
    "        },\n",
    "        'random_forest':{\n",
    "            'model':RandomForestRegressor(random_state=42),\n",
    "            'params':{\n",
    "                'criterion':['squared_error','friedman_mse','absolute_error'],\n",
    "                'n_estimators':[400,450]}\n",
    "        },\n",
    "        'xgboost':{\n",
    "            'model':XGBRegressor(random_state=42,eval_metric=\"rmse\"),\n",
    "            'params':{\n",
    "                'objective':[\"reg:squarederror\",\"reg:absoluteerror\"],\n",
    "                'n_estimators':[45,50],\n",
    "                'learning_rate':[0.05,0.1,0.15,0.2]\n",
    "            }\n",
    "        }\n",
    "    }\n",
    "    scores=[]\n",
    "    cv=ShuffleSplit(n_splits=5,test_size=15,random_state=42)\n",
    "    for algo_name,config in algo.items():\n",
    "        gs=GridSearchCV(config['model'],config['params'],cv=cv,n_jobs=-1,scoring='r2')\n",
    "        gs.fit(X,y)\n",
    "        scores.append({\n",
    "            'model':algo_name,\n",
    "            'best_score':gs.best_score_,\n",
    "            \"best_params\":gs.best_params_\n",
    "        })\n",
    "    return pd.DataFrame(scores,columns=[\"model\",\"best_score\",\"best_params\"])\n",
    "df3 = find_model_gridsearchcv(X,y)\n",
    "for i, row in df3.iterrows():\n",
    "    print(\"\\nModel:\", row['model'])\n",
    "    print(\"Best Score:\", row['best_score'])\n",
    "    print(\"Best Params:\", row['best_params'])"
   ]
  },
  {
   "cell_type": "code",
   "execution_count": 16,
   "id": "f4a21f18",
   "metadata": {},
   "outputs": [
    {
     "data": {
      "text/plain": [
       "0.863540608306141"
      ]
     },
     "execution_count": 16,
     "metadata": {},
     "output_type": "execute_result"
    }
   ],
   "source": [
    "from xgboost import XGBRegressor\n",
    "model_reg=XGBRegressor(learning_rate=0.1,n_estimators=110,objective=\"reg:absoluteerror\",random_state=42,eval_metric=\"rmse\")\n",
    "model_reg.fit(X_train,y_train)\n",
    "model_reg.predict(X_test)\n",
    "model_reg.score(X_test,y_test)"
   ]
  },
  {
   "cell_type": "code",
   "execution_count": 29,
   "id": "49f5da79",
   "metadata": {},
   "outputs": [],
   "source": [
    "import numpy as np\n",
    "import pandas as pd\n",
    "\n",
    "def predict_price(age, sex, bmi, children, smoker, location):\n",
    "    # start with zero row matching training columns\n",
    "    x = np.zeros(len(X.columns))\n",
    "\n",
    "    # create a Series so you can align values to column names directly\n",
    "    input_data = {\n",
    "        \"age\": age,\n",
    "        \"sex\": 1 if sex.lower() in [\"female\", \"f\", \"1\"] else 0,\n",
    "        \"bmi\": bmi,\n",
    "        \"children\": children,\n",
    "        \"smoker\": 1 if smoker.lower() in [\"yes\", \"y\", \"1\"] else 0,\n",
    "    }\n",
    "\n",
    "    # fill in the one-hot location column (e.g., region_southwest = 1)\n",
    "    loc_col = f\"region_{location.lower()}\"\n",
    "    if loc_col in X.columns:\n",
    "        input_data[loc_col] = 1\n",
    "\n",
    "    # turn into pandas DataFrame with same columns as training\n",
    "    df_input = pd.DataFrame([input_data], columns=X.columns).fillna(0)\n",
    "\n",
    "    return model_reg.predict(df_input)[0]\n"
   ]
  },
  {
   "cell_type": "code",
   "execution_count": 33,
   "id": "4149ea89",
   "metadata": {},
   "outputs": [
    {
     "data": {
      "text/plain": [
       "22921.768"
      ]
     },
     "execution_count": 33,
     "metadata": {},
     "output_type": "execute_result"
    }
   ],
   "source": [
    "predict_price(age=35, sex=\"female\", bmi=30, children=0, smoker=\"yes\", location=\"northeast\")"
   ]
  },
  {
   "cell_type": "code",
   "execution_count": 34,
   "id": "070bb047",
   "metadata": {},
   "outputs": [
    {
     "data": {
      "text/plain": [
       "22889.453"
      ]
     },
     "execution_count": 34,
     "metadata": {},
     "output_type": "execute_result"
    }
   ],
   "source": [
    "predict_price(age=35, sex=\"male\", bmi=30, children=0, smoker=\"yes\", location=\"northeast\")"
   ]
  },
  {
   "cell_type": "code",
   "execution_count": 35,
   "id": "c3d99074",
   "metadata": {},
   "outputs": [
    {
     "data": {
      "text/plain": [
       "43310.96"
      ]
     },
     "execution_count": 35,
     "metadata": {},
     "output_type": "execute_result"
    }
   ],
   "source": [
    "predict_price(age=35, sex=\"female\", bmi=50, children=0, smoker=\"yes\", location=\"northeast\")"
   ]
  },
  {
   "cell_type": "code",
   "execution_count": 36,
   "id": "ac1648ac",
   "metadata": {},
   "outputs": [
    {
     "data": {
      "text/plain": [
       "41489.293"
      ]
     },
     "execution_count": 36,
     "metadata": {},
     "output_type": "execute_result"
    }
   ],
   "source": [
    "predict_price(age=35, sex=\"male\", bmi=50, children=0, smoker=\"yes\", location=\"northeast\")"
   ]
  },
  {
   "cell_type": "code",
   "execution_count": 37,
   "id": "5975ab02",
   "metadata": {},
   "outputs": [
    {
     "data": {
      "text/plain": [
       "43310.96"
      ]
     },
     "execution_count": 37,
     "metadata": {},
     "output_type": "execute_result"
    }
   ],
   "source": [
    "predict_price(age=35, sex=\"female\", bmi=100, children=0, smoker=\"yes\", location=\"northeast\")"
   ]
  },
  {
   "cell_type": "code",
   "execution_count": 38,
   "id": "13bf324c",
   "metadata": {},
   "outputs": [
    {
     "data": {
      "text/plain": [
       "41489.293"
      ]
     },
     "execution_count": 38,
     "metadata": {},
     "output_type": "execute_result"
    }
   ],
   "source": [
    "predict_price(age=35, sex=\"male\", bmi=100, children=0, smoker=\"yes\", location=\"northeast\")"
   ]
  },
  {
   "cell_type": "code",
   "execution_count": 39,
   "id": "a12791c1",
   "metadata": {},
   "outputs": [
    {
     "data": {
      "text/plain": [
       "6557.858"
      ]
     },
     "execution_count": 39,
     "metadata": {},
     "output_type": "execute_result"
    }
   ],
   "source": [
    "predict_price(age=35, sex=\"female\", bmi=30, children=0, smoker=\"no\", location=\"northeast\")"
   ]
  },
  {
   "cell_type": "code",
   "execution_count": 48,
   "id": "d83ac217",
   "metadata": {},
   "outputs": [
    {
     "data": {
      "text/plain": [
       "38463.65"
      ]
     },
     "execution_count": 48,
     "metadata": {},
     "output_type": "execute_result"
    }
   ],
   "source": [
    "predict_price(age=80, sex=\"female\", bmi=90, children=5, smoker=\"yes\", location=\"northeast\")"
   ]
  },
  {
   "cell_type": "code",
   "execution_count": 49,
   "id": "35638311",
   "metadata": {},
   "outputs": [],
   "source": [
    "import joblib\n",
    "joblib.dump(model_reg,\"insurance_model.pkl\")"
   ]
  },
  {
   "cell_type": "code",
   "execution_count": null,
   "id": "96b9b656",
   "metadata": {},
   "outputs": [],
   "source": [
    " \n"
   ]
  }
 ],
 "metadata": {
  "kernelspec": {
   "display_name": "Python 3 (ipykernel)",
   "language": "python",
   "name": "python3"
  },
  "language_info": {
   "codemirror_mode": {
    "name": "ipython",
    "version": 3
   },
   "file_extension": ".py",
   "mimetype": "text/x-python",
   "name": "python",
   "nbconvert_exporter": "python",
   "pygments_lexer": "ipython3",
   "version": "3.11.5"
  }
 },
 "nbformat": 4,
 "nbformat_minor": 5
}
